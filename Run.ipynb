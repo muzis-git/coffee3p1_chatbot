{
 "metadata": {
  "name": "",
  "signature": "sha256:1dae80da43681f7b19dbd1b510cd7ecda7d229be0a2b60d3af7a025d32230c80"
 },
 "nbformat": 3,
 "nbformat_minor": 0,
 "worksheets": [
  {
   "cells": [
    {
     "cell_type": "code",
     "collapsed": false,
     "input": [
      "\n",
      "# coding: utf-8\n",
      "\n",
      "# In[10]:\n",
      "\n",
      "import numpy as np\n",
      "import theano\n",
      "import theano.tensor as T\n",
      "import lasagne\n",
      "import librosa as lb\n",
      "\n",
      "import matplotlib.pyplot as plt\n",
      "get_ipython().magic(u'matplotlib inline')\n",
      "\n",
      "import gzip\n",
      "import pickle\n",
      "import os\n",
      "import os.path\n",
      "\n",
      "\n",
      "# In[11]:\n",
      "\n",
      "# Seed for reproduciblity\n",
      "np.random.seed(42)\n",
      "\n",
      "\n",
      "wav_dir = 'converted_music/miniMusic/'\n",
      "X = []\n",
      "Y = []\n",
      "clazzes = {}\n",
      "for root, dirs, files in os.walk(wav_dir):\n",
      "    X += list(map(lambda x: os.path.join(root, x), files))\n",
      "    clazz = clazzes[root] if (root in dirs) else len(clazzes)\n",
      "    clazzes[root] = clazz\n",
      "    for _ in files:\n",
      "        Y.append(clazz-1)\n",
      "    \n",
      "from sklearn.cross_validation import train_test_split\n",
      "\n",
      "X_train, X_test, y_train, y_test = train_test_split(X, Y, test_size=0.1)\n",
      "X_train, X_val, y_train, y_val = train_test_split(X_train, y_train, test_size=0.11)\n",
      "print(set(y_train))\n"
     ],
     "language": "python",
     "metadata": {},
     "outputs": [
      {
       "output_type": "stream",
       "stream": "stderr",
       "text": [
        "WARNING (theano.sandbox.cuda): CUDA is installed, but device gpu is not available  (error: Unable to get the number of gpus available: no CUDA-capable device is detected)\n"
       ]
      },
      {
       "output_type": "stream",
       "stream": "stderr",
       "text": [
        "WARNING:theano.sandbox.cuda:CUDA is installed, but device gpu is not available  (error: Unable to get the number of gpus available: no CUDA-capable device is detected)\n"
       ]
      },
      {
       "output_type": "stream",
       "stream": "stderr",
       "text": [
        "/usr/local/lib/python3.4/dist-packages/theano/tensor/signal/downsample.py:6: UserWarning: downsample module has been moved to the theano.tensor.signal.pool module.\n",
        "  \"downsample module has been moved to the theano.tensor.signal.pool module.\")\n",
        "/usr/local/lib/python3.4/dist-packages/matplotlib/backends/backend_gtk3agg.py:18: UserWarning: The Gtk3Agg backend is known to not work on Python 3.x with pycairo. Try installing cairocffi.\n",
        "  \"The Gtk3Agg backend is known to not work on Python 3.x with pycairo. \"\n"
       ]
      },
      {
       "output_type": "stream",
       "stream": "stdout",
       "text": [
        "{0, 1}\n"
       ]
      }
     ],
     "prompt_number": 1
    },
    {
     "cell_type": "code",
     "collapsed": false,
     "input": [
      "\n",
      "def batch_gen(X, y, N):\n",
      "    while True:\n",
      "        idx = np.random.choice(len(y), N)\n",
      "        xs = []\n",
      "        ys = []\n",
      "        for i in range(N//10):\n",
      "            for x in gen_sample(X[idx[i]]):\n",
      "                xs.append(x)\n",
      "                ys.append(y[idx[i]])\n",
      "        yield np.array(xs), np.array(ys).astype('int32')"
     ],
     "language": "python",
     "metadata": {},
     "outputs": [],
     "prompt_number": 2
    },
    {
     "cell_type": "code",
     "collapsed": false,
     "input": [
      "        # We need to reshape from a 1D feature vector to a 1 channel 2D image.\n",
      "# Then we apply 3 convolutional filters with 3x3 kernel size.\n",
      "l_in = lasagne.layers.InputLayer((None, 257, 173))\n",
      "\n",
      "l_shape = lasagne.layers.ReshapeLayer(l_in, (-1, 1, 257, 173))\n",
      "\n",
      "l_conv = lasagne.layers.Conv2DLayer(l_shape, num_filters=1, stride=2, filter_size=3, pad='valid')\n",
      "\n",
      "l_conv2 = lasagne.layers.Conv2DLayer(l_conv, num_filters=1, stride=2, filter_size=3, pad='valid')\n",
      "\n",
      "l_conv3 = lasagne.layers.Conv2DLayer(l_conv2, num_filters=1, stride=2, filter_size=3, pad='valid')\n",
      "\n",
      "l_conv4 = lasagne.layers.Conv2DLayer(l_conv3, num_filters=1, stride=2, filter_size=3, pad='valid')\n",
      "\n",
      "l_conv5 = lasagne.layers.Conv2DLayer(l_conv4, num_filters=1, stride=2, filter_size=3, pad='valid')\n",
      "\n",
      "print(lasagne.layers.get_output_shape(l_conv5))\n",
      "l_out = lasagne.layers.DenseLayer(l_conv5,\n",
      "                                  num_units=2,\n",
      "                                  nonlinearity=lasagne.nonlinearities.softmax)\n",
      "layers = ['l_conv', 'l_conv2', 'l_conv3', 'l_conv4', 'l_conv5', 'l_out']\n",
      "net = {}\n",
      "net['l_conv'] = l_conv\n",
      "net['l_conv2'] = l_conv2\n",
      "net['l_conv3'] = l_conv3\n",
      "net['l_conv4'] = l_conv4\n",
      "net['l_conv5'] = l_conv5\n",
      "net['l_out'] = l_out\n",
      "\n",
      "layers = {k: net[k] for k in layers}\n",
      "print(lasagne.layers.get_output_shape(l_conv3))"
     ],
     "language": "python",
     "metadata": {},
     "outputs": [
      {
       "output_type": "stream",
       "stream": "stdout",
       "text": [
        "(None, 1, 7, 4)\n",
        "(None, 1, 31, 20)\n"
       ]
      }
     ],
     "prompt_number": 84
    },
    {
     "cell_type": "code",
     "collapsed": false,
     "input": [
      "import librosa as lb\n",
      "def f(x):\n",
      "    return x.real\n",
      "\n",
      "def g(x):\n",
      "    return x.imag\n",
      "\n",
      "f = np.vectorize(f)\n",
      "g = np.vectorize(g)\n",
      "\n",
      "def gen_sample(filename, n_batch=10):\n",
      "    print(filename)\n",
      "    src, sr = lb.load (filename, sr=11025)\n",
      "    frame_size = sr*4\n",
      "    res = []\n",
      "    idx = np.random.choice(len(src) - frame_size, n_batch)\n",
      "    for pos in idx:\n",
      "        frame = src[pos: pos + frame_size]\n",
      "        SRC = lb.stft (frame, n_fft=512, hop_length=256)\n",
      "        res.append(f(SRC))\n",
      "    return res\n",
      "\n",
      "def get_samples(filename, offset=0):\n",
      "    src, sr = lb.load (filename, sr=11025)\n",
      "    frame_size = sr*4\n",
      "    res = []\n",
      "    for pos in range(0, len(src), frame_size):\n",
      "        frame = src[pos: pos + frame_size]\n",
      "        SRC = lb.stft (frame, n_fft=512, hop_length=256)\n",
      "        res.append((f(SRC), g(SRC)))\n",
      "    return res\n",
      "\n",
      "def restore_sample(aSRC, pSRC, filename='test.wav'):\n",
      "    signal = lb.istft(aSRC + pSRC, hop_length=256)\n",
      "    \n",
      "    print(len(signal))\n",
      "    return signal\n",
      "    \n",
      "def save_sample(filename, y):\n",
      "    print(filename)\n",
      "    lb.output.write_wav(filename, y, 11025)"
     ],
     "language": "python",
     "metadata": {},
     "outputs": [],
     "prompt_number": 144
    },
    {
     "cell_type": "code",
     "collapsed": false,
     "input": [
      "values = pickle.load(open('weights0.500.pkl', 'rb'))\n",
      "lasagne.layers.set_all_param_values(layers.values(), values)"
     ],
     "language": "python",
     "metadata": {},
     "outputs": [],
     "prompt_number": 161
    },
    {
     "cell_type": "code",
     "collapsed": false,
     "input": [
      "def gram_matrix(x):\n",
      "    x = x.flatten(ndim=3)\n",
      "    g = T.tensordot(x, x, axes=([2], [2]))\n",
      "    return g\n",
      "\n",
      "\n",
      "def content_loss(P, X, layer):\n",
      "    p = P[layer]\n",
      "    x = X[layer]\n",
      "    \n",
      "    loss = 1./2 * ((x - p)**2).sum()\n",
      "    return loss\n",
      "\n",
      "\n",
      "def style_loss(A, X, layer):\n",
      "    a = A[layer]\n",
      "    x = X[layer]\n",
      "    \n",
      "    A = gram_matrix(a)\n",
      "    G = gram_matrix(x)\n",
      "    \n",
      "    N = a.shape[1]\n",
      "    M = a.shape[2] * a.shape[3]\n",
      "    \n",
      "    loss = 1./(4 * N**2 * M**2) * ((G - A)**2).sum()\n",
      "    return loss\n",
      "\n",
      "def total_variation_loss(x):\n",
      "    return (((x[:,:-1,:-1] - x[:,1:,:-1])**2 + (x[:,:-1,:-1] - x[:,:-1,1:])**2)**1.25).sum()"
     ],
     "language": "python",
     "metadata": {},
     "outputs": [],
     "prompt_number": 116
    },
    {
     "cell_type": "code",
     "collapsed": false,
     "input": [
      "target_samples = get_samples('the_prodigy_smack_my_bitch_up_myzuka.wav')\n",
      "style_samples = get_samples('green_day.wav')\n",
      "style_music_array = [x[0] for x in style_samples]\n",
      "target_music_array = [x[0] for x in target_samples]\n",
      "samples_cnt = min(len(style_music_array), len(target_music_array))"
     ],
     "language": "python",
     "metadata": {},
     "outputs": [],
     "prompt_number": 152
    },
    {
     "cell_type": "code",
     "collapsed": false,
     "input": [],
     "language": "python",
     "metadata": {},
     "outputs": [],
     "prompt_number": 16
    },
    {
     "cell_type": "code",
     "collapsed": false,
     "input": [
      "input_im_theano = T.tensor3()\n",
      "outputs = lasagne.layers.get_output(layers.values(), input_im_theano)\n",
      "output_genre = lasagne.layers.get_output(l_out, input_im_theano)\n",
      "target_features, style_features = None, None\n",
      "\n",
      "def set_features(target_music, style_music):\n",
      "    global target_features\n",
      "    global style_features\n",
      "    target_features = {k: theano.shared(output.eval({input_im_theano: np.array([target_music])}))\n",
      "                      for k, output in zip(layers.keys(), outputs)}\n",
      "    style_features = {k: theano.shared(output.eval({input_im_theano: np.array([style_music])}))\n",
      "                    for k, output in zip(layers.keys(), outputs)}"
     ],
     "language": "python",
     "metadata": {},
     "outputs": [],
     "prompt_number": 127
    },
    {
     "cell_type": "code",
     "collapsed": false,
     "input": [
      "from lasagne.utils import floatX\n",
      "generated_music = theano.shared(floatX(np.random.uniform(-128, 128, (1, 257, 173))))\n",
      "\n",
      "gen_features = lasagne.layers.get_output(layers.values(), generated_music)\n",
      "gen_features = {k: v for k, v in zip(layers.keys(), gen_features)}"
     ],
     "language": "python",
     "metadata": {},
     "outputs": [],
     "prompt_number": 128
    },
    {
     "cell_type": "code",
     "collapsed": false,
     "input": [
      "eval_loss, eval_grad = None, None \n",
      "def set_loss():\n",
      "    # Define loss function\n",
      "    losses = []\n",
      "\n",
      "    # content loss\n",
      "    losses.append(0.2e-3 * content_loss(target_features, gen_features, 'l_conv5'))\n",
      "\n",
      "    # style loss\n",
      "#     losses.append(0.2e5 * style_loss(style_features, gen_features, 'l_conv'))\n",
      "#     losses.append(0.2e4 * style_loss(style_features, gen_features, 'l_conv2'))\n",
      "    losses.append(0.2e9 * style_loss(style_features, gen_features, 'l_conv3'))\n",
      "    losses.append(0.2e9 * style_loss(style_features, gen_features, 'l_conv4'))\n",
      "\n",
      "    # total variation penalty\n",
      "    losses.append(0.1e-5 * total_variation_loss(generated_music))\n",
      "\n",
      "    # y_sym = T.ivector()\n",
      "\n",
      "    # loss = T.mean(lasagne.objectives.categorical_crossentropy(output_genre, y_sym))\n",
      "\n",
      "    # losses.append(loss)\n",
      "    total_loss = sum(losses)\n",
      "    grad = T.grad(total_loss, generated_music)\n",
      "    global f_loss\n",
      "    global f_grad\n",
      "    f_loss = theano.function([], total_loss)\n",
      "    f_grad = theano.function([], grad)\n",
      "    \n",
      "    global eval_loss\n",
      "    global eval_grad\n",
      "\n",
      "    # Helper functions to interface with scipy.optimize\n",
      "    def eval_loss(x0):\n",
      "        global f_loss\n",
      "        x0 = floatX(x0.reshape((1, 257, 173)))\n",
      "        generated_music.set_value(x0)\n",
      "        return f_loss().astype('float64')\n",
      "\n",
      "    def eval_grad(x0):\n",
      "        x0 = floatX(x0.reshape((1, 257, 173)))\n",
      "        generated_music.set_value(x0)\n",
      "        global f_grad\n",
      "        return np.array(f_grad()).flatten().astype('float64')"
     ],
     "language": "python",
     "metadata": {},
     "outputs": [],
     "prompt_number": 159
    },
    {
     "cell_type": "code",
     "collapsed": false,
     "input": [],
     "language": "python",
     "metadata": {},
     "outputs": [],
     "prompt_number": 79
    },
    {
     "cell_type": "code",
     "collapsed": false,
     "input": [
      "print(xs[-1].shape)"
     ],
     "language": "python",
     "metadata": {},
     "outputs": [
      {
       "output_type": "stream",
       "stream": "stdout",
       "text": [
        "(1, 257, 173)\n"
       ]
      }
     ],
     "prompt_number": 80
    },
    {
     "cell_type": "code",
     "collapsed": false,
     "input": [
      "import scipy.optimize\n",
      "xss = []\n",
      "print(target_samples[j][1].shape)\n",
      "for j in range(min(15, samples_cnt)):\n",
      "    set_features(target_music_array[j], style_music_array[j])\n",
      "    set_loss()\n",
      "    # Initialize with a noise image\n",
      "    generated_music.set_value(floatX(np.random.uniform(-128, 128, (1, 257, 173))))\n",
      "\n",
      "    x0 = generated_music.get_value().astype('float64')\n",
      "    xs = []\n",
      "    xs.append(x0)\n",
      "\n",
      "    # Optimize, saving the result periodically\n",
      "    for i in range(8):\n",
      "        print(i)\n",
      "        scipy.optimize.fmin_l_bfgs_b(eval_loss, x0.flatten(), fprime=eval_grad, maxfun=40)\n",
      "        x0 = generated_music.get_value().astype('float64')\n",
      "        xs.append(x0)\n",
      "    xss.append(restore_sample(xs[-1][0], target_samples[j][1]))\n",
      "    print(len(xss))"
     ],
     "language": "python",
     "metadata": {},
     "outputs": [
      {
       "output_type": "stream",
       "stream": "stdout",
       "text": [
        "(257, 173)\n",
        "0"
       ]
      },
      {
       "output_type": "stream",
       "stream": "stdout",
       "text": [
        "\n",
        "1"
       ]
      },
      {
       "output_type": "stream",
       "stream": "stdout",
       "text": [
        "\n",
        "2"
       ]
      },
      {
       "output_type": "stream",
       "stream": "stdout",
       "text": [
        "\n",
        "3"
       ]
      },
      {
       "output_type": "stream",
       "stream": "stdout",
       "text": [
        "\n",
        "4"
       ]
      },
      {
       "output_type": "stream",
       "stream": "stdout",
       "text": [
        "\n",
        "5"
       ]
      },
      {
       "output_type": "stream",
       "stream": "stdout",
       "text": [
        "\n",
        "6"
       ]
      },
      {
       "output_type": "stream",
       "stream": "stdout",
       "text": [
        "\n",
        "7"
       ]
      },
      {
       "output_type": "stream",
       "stream": "stdout",
       "text": [
        "\n",
        "44032"
       ]
      },
      {
       "output_type": "stream",
       "stream": "stdout",
       "text": [
        "\n",
        "1\n",
        "0"
       ]
      },
      {
       "output_type": "stream",
       "stream": "stdout",
       "text": [
        "\n",
        "1"
       ]
      },
      {
       "output_type": "stream",
       "stream": "stdout",
       "text": [
        "\n",
        "2"
       ]
      },
      {
       "output_type": "stream",
       "stream": "stdout",
       "text": [
        "\n",
        "3"
       ]
      },
      {
       "output_type": "stream",
       "stream": "stdout",
       "text": [
        "\n",
        "4"
       ]
      },
      {
       "output_type": "stream",
       "stream": "stdout",
       "text": [
        "\n",
        "5"
       ]
      },
      {
       "output_type": "stream",
       "stream": "stdout",
       "text": [
        "\n",
        "6"
       ]
      },
      {
       "output_type": "stream",
       "stream": "stdout",
       "text": [
        "\n",
        "7"
       ]
      },
      {
       "output_type": "stream",
       "stream": "stdout",
       "text": [
        "\n",
        "44032"
       ]
      },
      {
       "output_type": "stream",
       "stream": "stdout",
       "text": [
        "\n",
        "2\n",
        "0"
       ]
      },
      {
       "output_type": "stream",
       "stream": "stdout",
       "text": [
        "\n",
        "1"
       ]
      },
      {
       "output_type": "stream",
       "stream": "stdout",
       "text": [
        "\n",
        "2"
       ]
      },
      {
       "output_type": "stream",
       "stream": "stdout",
       "text": [
        "\n",
        "3"
       ]
      },
      {
       "output_type": "stream",
       "stream": "stdout",
       "text": [
        "\n",
        "4"
       ]
      },
      {
       "output_type": "stream",
       "stream": "stdout",
       "text": [
        "\n",
        "5"
       ]
      },
      {
       "output_type": "stream",
       "stream": "stdout",
       "text": [
        "\n",
        "6"
       ]
      },
      {
       "output_type": "stream",
       "stream": "stdout",
       "text": [
        "\n",
        "7"
       ]
      },
      {
       "output_type": "stream",
       "stream": "stdout",
       "text": [
        "\n",
        "44032"
       ]
      },
      {
       "output_type": "stream",
       "stream": "stdout",
       "text": [
        "\n",
        "3\n",
        "0"
       ]
      },
      {
       "output_type": "stream",
       "stream": "stdout",
       "text": [
        "\n",
        "1"
       ]
      },
      {
       "output_type": "stream",
       "stream": "stdout",
       "text": [
        "\n",
        "2"
       ]
      },
      {
       "output_type": "stream",
       "stream": "stdout",
       "text": [
        "\n",
        "3"
       ]
      },
      {
       "output_type": "stream",
       "stream": "stdout",
       "text": [
        "\n",
        "4"
       ]
      },
      {
       "output_type": "stream",
       "stream": "stdout",
       "text": [
        "\n",
        "5"
       ]
      },
      {
       "output_type": "stream",
       "stream": "stdout",
       "text": [
        "\n",
        "6"
       ]
      },
      {
       "output_type": "stream",
       "stream": "stdout",
       "text": [
        "\n",
        "7"
       ]
      },
      {
       "output_type": "stream",
       "stream": "stdout",
       "text": [
        "\n",
        "44032"
       ]
      },
      {
       "output_type": "stream",
       "stream": "stdout",
       "text": [
        "\n",
        "4\n",
        "0"
       ]
      },
      {
       "output_type": "stream",
       "stream": "stdout",
       "text": [
        "\n",
        "1"
       ]
      },
      {
       "output_type": "stream",
       "stream": "stdout",
       "text": [
        "\n",
        "2"
       ]
      },
      {
       "output_type": "stream",
       "stream": "stdout",
       "text": [
        "\n",
        "3"
       ]
      },
      {
       "output_type": "stream",
       "stream": "stdout",
       "text": [
        "\n",
        "4"
       ]
      },
      {
       "output_type": "stream",
       "stream": "stdout",
       "text": [
        "\n",
        "5"
       ]
      },
      {
       "output_type": "stream",
       "stream": "stdout",
       "text": [
        "\n",
        "6"
       ]
      },
      {
       "output_type": "stream",
       "stream": "stdout",
       "text": [
        "\n",
        "7"
       ]
      },
      {
       "output_type": "stream",
       "stream": "stdout",
       "text": [
        "\n",
        "44032"
       ]
      },
      {
       "output_type": "stream",
       "stream": "stdout",
       "text": [
        "\n",
        "5\n",
        "0"
       ]
      },
      {
       "output_type": "stream",
       "stream": "stdout",
       "text": [
        "\n",
        "1"
       ]
      },
      {
       "output_type": "stream",
       "stream": "stdout",
       "text": [
        "\n",
        "2"
       ]
      },
      {
       "output_type": "stream",
       "stream": "stdout",
       "text": [
        "\n",
        "3"
       ]
      },
      {
       "output_type": "stream",
       "stream": "stdout",
       "text": [
        "\n",
        "4"
       ]
      },
      {
       "output_type": "stream",
       "stream": "stdout",
       "text": [
        "\n",
        "5"
       ]
      },
      {
       "output_type": "stream",
       "stream": "stdout",
       "text": [
        "\n",
        "6"
       ]
      },
      {
       "output_type": "stream",
       "stream": "stdout",
       "text": [
        "\n",
        "7"
       ]
      },
      {
       "output_type": "stream",
       "stream": "stdout",
       "text": [
        "\n",
        "44032"
       ]
      },
      {
       "output_type": "stream",
       "stream": "stdout",
       "text": [
        "\n",
        "6\n",
        "0"
       ]
      },
      {
       "output_type": "stream",
       "stream": "stdout",
       "text": [
        "\n",
        "1"
       ]
      },
      {
       "output_type": "stream",
       "stream": "stdout",
       "text": [
        "\n",
        "2"
       ]
      },
      {
       "output_type": "stream",
       "stream": "stdout",
       "text": [
        "\n",
        "3"
       ]
      },
      {
       "output_type": "stream",
       "stream": "stdout",
       "text": [
        "\n",
        "4"
       ]
      },
      {
       "output_type": "stream",
       "stream": "stdout",
       "text": [
        "\n",
        "5"
       ]
      },
      {
       "output_type": "stream",
       "stream": "stdout",
       "text": [
        "\n",
        "6"
       ]
      },
      {
       "output_type": "stream",
       "stream": "stdout",
       "text": [
        "\n",
        "7"
       ]
      },
      {
       "output_type": "stream",
       "stream": "stdout",
       "text": [
        "\n",
        "44032"
       ]
      },
      {
       "output_type": "stream",
       "stream": "stdout",
       "text": [
        "\n",
        "7\n",
        "0"
       ]
      },
      {
       "output_type": "stream",
       "stream": "stdout",
       "text": [
        "\n",
        "1"
       ]
      },
      {
       "output_type": "stream",
       "stream": "stdout",
       "text": [
        "\n",
        "2"
       ]
      },
      {
       "output_type": "stream",
       "stream": "stdout",
       "text": [
        "\n",
        "3"
       ]
      },
      {
       "output_type": "stream",
       "stream": "stdout",
       "text": [
        "\n",
        "4"
       ]
      },
      {
       "output_type": "stream",
       "stream": "stdout",
       "text": [
        "\n",
        "5"
       ]
      },
      {
       "output_type": "stream",
       "stream": "stdout",
       "text": [
        "\n",
        "6"
       ]
      },
      {
       "output_type": "stream",
       "stream": "stdout",
       "text": [
        "\n",
        "7"
       ]
      },
      {
       "output_type": "stream",
       "stream": "stdout",
       "text": [
        "\n",
        "44032"
       ]
      },
      {
       "output_type": "stream",
       "stream": "stdout",
       "text": [
        "\n",
        "8\n",
        "0"
       ]
      },
      {
       "output_type": "stream",
       "stream": "stdout",
       "text": [
        "\n",
        "1"
       ]
      },
      {
       "output_type": "stream",
       "stream": "stdout",
       "text": [
        "\n",
        "2"
       ]
      },
      {
       "output_type": "stream",
       "stream": "stdout",
       "text": [
        "\n",
        "3"
       ]
      },
      {
       "output_type": "stream",
       "stream": "stdout",
       "text": [
        "\n",
        "4"
       ]
      },
      {
       "output_type": "stream",
       "stream": "stdout",
       "text": [
        "\n",
        "5"
       ]
      },
      {
       "output_type": "stream",
       "stream": "stdout",
       "text": [
        "\n",
        "6"
       ]
      },
      {
       "output_type": "stream",
       "stream": "stdout",
       "text": [
        "\n",
        "7"
       ]
      },
      {
       "output_type": "stream",
       "stream": "stdout",
       "text": [
        "\n",
        "44032"
       ]
      },
      {
       "output_type": "stream",
       "stream": "stdout",
       "text": [
        "\n",
        "9\n",
        "0"
       ]
      },
      {
       "output_type": "stream",
       "stream": "stdout",
       "text": [
        "\n",
        "1"
       ]
      },
      {
       "output_type": "stream",
       "stream": "stdout",
       "text": [
        "\n",
        "2"
       ]
      },
      {
       "output_type": "stream",
       "stream": "stdout",
       "text": [
        "\n",
        "3"
       ]
      },
      {
       "output_type": "stream",
       "stream": "stdout",
       "text": [
        "\n",
        "4"
       ]
      },
      {
       "output_type": "stream",
       "stream": "stdout",
       "text": [
        "\n",
        "5"
       ]
      },
      {
       "output_type": "stream",
       "stream": "stdout",
       "text": [
        "\n",
        "6"
       ]
      },
      {
       "output_type": "stream",
       "stream": "stdout",
       "text": [
        "\n",
        "7"
       ]
      },
      {
       "output_type": "stream",
       "stream": "stdout",
       "text": [
        "\n",
        "44032"
       ]
      },
      {
       "output_type": "stream",
       "stream": "stdout",
       "text": [
        "\n",
        "10\n",
        "0"
       ]
      },
      {
       "output_type": "stream",
       "stream": "stdout",
       "text": [
        "\n",
        "1"
       ]
      },
      {
       "output_type": "stream",
       "stream": "stdout",
       "text": [
        "\n",
        "2"
       ]
      },
      {
       "output_type": "stream",
       "stream": "stdout",
       "text": [
        "\n",
        "3"
       ]
      },
      {
       "output_type": "stream",
       "stream": "stdout",
       "text": [
        "\n",
        "4"
       ]
      },
      {
       "output_type": "stream",
       "stream": "stdout",
       "text": [
        "\n",
        "5"
       ]
      },
      {
       "output_type": "stream",
       "stream": "stdout",
       "text": [
        "\n",
        "6"
       ]
      },
      {
       "output_type": "stream",
       "stream": "stdout",
       "text": [
        "\n",
        "7"
       ]
      },
      {
       "output_type": "stream",
       "stream": "stdout",
       "text": [
        "\n",
        "44032"
       ]
      },
      {
       "output_type": "stream",
       "stream": "stdout",
       "text": [
        "\n",
        "11\n",
        "0"
       ]
      },
      {
       "output_type": "stream",
       "stream": "stdout",
       "text": [
        "\n",
        "1"
       ]
      },
      {
       "output_type": "stream",
       "stream": "stdout",
       "text": [
        "\n",
        "2"
       ]
      },
      {
       "output_type": "stream",
       "stream": "stdout",
       "text": [
        "\n",
        "3"
       ]
      },
      {
       "output_type": "stream",
       "stream": "stdout",
       "text": [
        "\n",
        "4"
       ]
      },
      {
       "output_type": "stream",
       "stream": "stdout",
       "text": [
        "\n",
        "5"
       ]
      },
      {
       "output_type": "stream",
       "stream": "stdout",
       "text": [
        "\n",
        "6"
       ]
      },
      {
       "output_type": "stream",
       "stream": "stdout",
       "text": [
        "\n",
        "7"
       ]
      },
      {
       "output_type": "stream",
       "stream": "stdout",
       "text": [
        "\n",
        "44032"
       ]
      },
      {
       "output_type": "stream",
       "stream": "stdout",
       "text": [
        "\n",
        "12\n",
        "0"
       ]
      },
      {
       "output_type": "stream",
       "stream": "stdout",
       "text": [
        "\n",
        "1"
       ]
      },
      {
       "output_type": "stream",
       "stream": "stdout",
       "text": [
        "\n",
        "2"
       ]
      },
      {
       "output_type": "stream",
       "stream": "stdout",
       "text": [
        "\n",
        "3"
       ]
      },
      {
       "output_type": "stream",
       "stream": "stdout",
       "text": [
        "\n",
        "4"
       ]
      },
      {
       "output_type": "stream",
       "stream": "stdout",
       "text": [
        "\n",
        "5"
       ]
      },
      {
       "output_type": "stream",
       "stream": "stdout",
       "text": [
        "\n",
        "6"
       ]
      },
      {
       "output_type": "stream",
       "stream": "stdout",
       "text": [
        "\n",
        "7"
       ]
      },
      {
       "output_type": "stream",
       "stream": "stdout",
       "text": [
        "\n",
        "44032"
       ]
      },
      {
       "output_type": "stream",
       "stream": "stdout",
       "text": [
        "\n",
        "13\n",
        "0"
       ]
      },
      {
       "output_type": "stream",
       "stream": "stdout",
       "text": [
        "\n",
        "1"
       ]
      },
      {
       "output_type": "stream",
       "stream": "stdout",
       "text": [
        "\n",
        "2"
       ]
      },
      {
       "output_type": "stream",
       "stream": "stdout",
       "text": [
        "\n",
        "3"
       ]
      },
      {
       "output_type": "stream",
       "stream": "stdout",
       "text": [
        "\n",
        "4"
       ]
      },
      {
       "output_type": "stream",
       "stream": "stdout",
       "text": [
        "\n",
        "5"
       ]
      },
      {
       "output_type": "stream",
       "stream": "stdout",
       "text": [
        "\n",
        "6"
       ]
      },
      {
       "output_type": "stream",
       "stream": "stdout",
       "text": [
        "\n",
        "7"
       ]
      },
      {
       "output_type": "stream",
       "stream": "stdout",
       "text": [
        "\n",
        "44032"
       ]
      },
      {
       "output_type": "stream",
       "stream": "stdout",
       "text": [
        "\n",
        "14\n",
        "0"
       ]
      },
      {
       "output_type": "stream",
       "stream": "stdout",
       "text": [
        "\n",
        "1"
       ]
      },
      {
       "output_type": "stream",
       "stream": "stdout",
       "text": [
        "\n",
        "2"
       ]
      },
      {
       "output_type": "stream",
       "stream": "stdout",
       "text": [
        "\n",
        "3"
       ]
      },
      {
       "output_type": "stream",
       "stream": "stdout",
       "text": [
        "\n",
        "4"
       ]
      },
      {
       "output_type": "stream",
       "stream": "stdout",
       "text": [
        "\n",
        "5"
       ]
      },
      {
       "output_type": "stream",
       "stream": "stdout",
       "text": [
        "\n",
        "6"
       ]
      },
      {
       "output_type": "stream",
       "stream": "stdout",
       "text": [
        "\n",
        "7"
       ]
      },
      {
       "output_type": "stream",
       "stream": "stdout",
       "text": [
        "\n",
        "44032"
       ]
      },
      {
       "output_type": "stream",
       "stream": "stdout",
       "text": [
        "\n",
        "15\n"
       ]
      }
     ],
     "prompt_number": 162
    },
    {
     "cell_type": "code",
     "collapsed": false,
     "input": [
      "xss"
     ],
     "language": "python",
     "metadata": {},
     "outputs": [
      {
       "metadata": {},
       "output_type": "pyout",
       "prompt_number": 92,
       "text": [
        "[array([ -6.06581800e-17,  -2.49822818e-07,  -1.00336240e-06, ...,\n",
        "          1.53695717e-01,   1.19307533e-01,   1.13956124e-01], dtype=float32),\n",
        " array([  1.33520384e-16,   1.71408658e-06,   6.84484485e-06, ...,\n",
        "         -1.34072077e+00,  -1.37143612e+00,  -1.37832689e+00], dtype=float32),\n",
        " array([  1.00258112e-17,   5.96520124e-07,   2.38754365e-06, ...,\n",
        "         -4.73125309e-01,  -5.03512025e-01,  -5.30682206e-01], dtype=float32),\n",
        " array([  1.55766368e-16,   1.42612251e-07,   5.70597365e-07, ...,\n",
        "         -5.81641793e-01,  -8.86786520e-01,  -1.28344011e+00], dtype=float32),\n",
        " array([  1.09140725e-15,   2.77572562e-05,   1.11138208e-04, ...,\n",
        "          4.65207636e-01,   1.05766609e-01,   3.57465774e-01], dtype=float32),\n",
        " array([ -3.70470043e-17,   1.91973911e-07,   7.67691461e-07, ...,\n",
        "          1.53314149e+00,   1.79704142e+00,   1.46187818e+00], dtype=float32),\n",
        " array([ -2.45353681e-18,   4.45881909e-07,   1.77284812e-06, ...,\n",
        "          3.78647387e-01,   5.97697377e-01,   1.44082963e-01], dtype=float32),\n",
        " array([  5.05791729e-17,  -5.22132495e-06,  -2.09141490e-05, ...,\n",
        "         -2.58334994e-01,  -3.12432110e-01,  -3.47394824e-01], dtype=float32),\n",
        " array([ -9.94780176e-17,   2.73190750e-07,   1.08620168e-06, ...,\n",
        "          1.04223758e-01,   2.53205001e-01,   2.08652437e-01], dtype=float32),\n",
        " array([  5.38376490e-17,  -1.40870668e-07,  -5.67132474e-07, ...,\n",
        "          3.72646904e+00,   4.74106312e+00,   4.91048861e+00], dtype=float32),\n",
        " array([ -9.44614650e-17,   1.03745924e-06,   4.14535134e-06, ...,\n",
        "         -4.54021871e-01,  -2.42082238e-01,   1.53618410e-01], dtype=float32),\n",
        " array([ -1.77991665e-16,   3.23938070e-06,   1.29833261e-05, ...,\n",
        "         -2.57850194e+00,  -1.88397872e+00,  -2.91662908e+00], dtype=float32)]"
       ]
      }
     ],
     "prompt_number": 92
    },
    {
     "cell_type": "code",
     "collapsed": false,
     "input": [
      "save_sample('test19.waw', np.concatenate(xss))"
     ],
     "language": "python",
     "metadata": {},
     "outputs": [
      {
       "output_type": "stream",
       "stream": "stdout",
       "text": [
        "test19.waw\n"
       ]
      }
     ],
     "prompt_number": 163
    },
    {
     "cell_type": "code",
     "collapsed": false,
     "input": [],
     "language": "python",
     "metadata": {},
     "outputs": []
    },
    {
     "cell_type": "code",
     "collapsed": false,
     "input": [],
     "language": "python",
     "metadata": {},
     "outputs": []
    }
   ],
   "metadata": {}
  }
 ]
}